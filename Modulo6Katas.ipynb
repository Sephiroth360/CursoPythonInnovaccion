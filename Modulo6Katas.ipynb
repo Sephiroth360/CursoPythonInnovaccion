{
 "cells": [
  {
   "cell_type": "markdown",
   "metadata": {},
   "source": [
    "# Ejercicio1: Crear y usar listas de Python\n",
    "Ejercicio: Usar listas para almacenar nombres de planetas\n",
    "\n",
    "Las listas permiten almacenar varios valores en una sola variable. Comenzarás un proyecto sobre información planetaria creando una lista de planetas."
   ]
  },
  {
   "cell_type": "code",
   "execution_count": 10,
   "metadata": {},
   "outputs": [
    {
     "name": "stdout",
     "output_type": "stream",
     "text": [
      "Existen 8 planetas\n",
      "Existen 9 planetas, siendo el último Plutón\n"
     ]
    }
   ],
   "source": [
    "planetas = ['Mercurio', 'Venus', 'Tierra', 'Marte', 'Jupiter', 'Saturno', 'Urano', 'Neptuno']\n",
    "\n",
    "print('Existen ' + str(len(planetas)) + ' planetas')\n",
    "\n",
    "planetas.append('Plutón')\n",
    "\n",
    "print('Existen ' + str(len(planetas)) + ' planetas, siendo el último ' + planetas[-1])"
   ]
  },
  {
   "cell_type": "markdown",
   "metadata": {},
   "source": [
    "# Ejercicio 2: Trabajando con datos de una lista\n",
    "Usar slices para recuperar partes de una lista\n",
    "\n",
    "Es posible que debas trabajar con diferentes secciones de una lista. En nuestro ejemplo, queremos mostrar planetas más cerca y más lejos del sol de un planeta que el usuario ingresa por teclado.\n",
    "\n",
    "Comienza agregando el código para crear una lista con los planetas.\n"
   ]
  },
  {
   "cell_type": "code",
   "execution_count": 13,
   "metadata": {},
   "outputs": [
    {
     "name": "stdout",
     "output_type": "stream",
     "text": [
      "Estos son los planetas mas cercanos al sol que Jupiter\n",
      "['Mercurio', 'Venus', 'Tierra', 'Marte']\n",
      "Estos son los planetas mas lejanos del sol que Jupiter\n",
      "['Saturno', 'Neptuno']\n"
     ]
    }
   ],
   "source": [
    "# Lista de planetas\n",
    "planetas = ['Mercurio', 'Venus', 'Tierra', 'Marte', 'Jupiter', 'Saturno', 'Neptuno']\n",
    "\n",
    "inPlaneta = input('Escriba el nombre de un planeta del sistema solar, comenzando con letra mayuscula: ')\n",
    "\n",
    "planetaBusqueda = planetas.index(inPlaneta)\n",
    "\n",
    "print('Estos son los planetas mas cercanos al sol que ' + inPlaneta)\n",
    "print(planetas[0:planetaBusqueda])\n",
    "\n",
    "print('Estos son los planetas mas lejanos del sol que ' + inPlaneta)\n",
    "print(planetas[planetaBusqueda + 1:])"
   ]
  }
 ],
 "metadata": {
  "interpreter": {
   "hash": "e1889053c0c8d159b49b31758cf411282f3a556a93c9883abe39cbd68a8307f6"
  },
  "kernelspec": {
   "display_name": "Python 3.10.2 64-bit (windows store)",
   "language": "python",
   "name": "python3"
  },
  "language_info": {
   "codemirror_mode": {
    "name": "ipython",
    "version": 3
   },
   "file_extension": ".py",
   "mimetype": "text/x-python",
   "name": "python",
   "nbconvert_exporter": "python",
   "pygments_lexer": "ipython3",
   "version": "3.10.2"
  },
  "orig_nbformat": 4
 },
 "nbformat": 4,
 "nbformat_minor": 2
}
