{
 "cells": [
  {
   "cell_type": "markdown",
   "metadata": {},
   "source": [
    "# Ejercicio: Uso de funciones en Python\n",
    "Ejercicio 1: Trabajar con argumentos en funciones\n",
    "\n",
    "Comienza por crear una función que necesite tres lecturas de combustible y devuelva un informe:\n"
   ]
  },
  {
   "cell_type": "code",
   "execution_count": 11,
   "metadata": {},
   "outputs": [
    {
     "name": "stdout",
     "output_type": "stream",
     "text": [
      "Reporte de Combustible: \n",
      "    Lectura 1: 50%\n",
      "    Lectura 2: 70%\n",
      "    Lectura 3: 95% \n",
      "    Promedio Total: 71.66666666666667%\n",
      "    \n",
      "71.66666666666667\n",
      "Reporte de Combustible: \n",
      "    Lectura 1: 50%\n",
      "    Lectura 2: 70%\n",
      "    Lectura 3: 95% \n",
      "    Promedio Total: 71.66666666666667%\n",
      "    \n"
     ]
    }
   ],
   "source": [
    "\n",
    "def reporteCombustible1(lectura1, lectura2, lectura3):\n",
    "    porcentajePromedioTotal = (lectura1 + lectura2 + lectura3) / 3\n",
    "    return f\"\"\"Reporte de Combustible: \n",
    "    Lectura 1: {lectura1}%\n",
    "    Lectura 2: {lectura2}%\n",
    "    Lectura 3: {lectura3}% \n",
    "    Promedio Total: {porcentajePromedioTotal}%\n",
    "    \"\"\"\n",
    "def promedio(args):\n",
    "    sumatoria = sum(args)\n",
    "    numElementos = len(args)\n",
    "    return sumatoria / numElementos\n",
    "\n",
    "def reporteCombustible2(lectura1, lectura2, lectura3):\n",
    "    return f\"\"\"Reporte de Combustible: \n",
    "    Lectura 1: {lectura1}%\n",
    "    Lectura 2: {lectura2}%\n",
    "    Lectura 3: {lectura3}% \n",
    "    Promedio Total: {promedio([lectura1, lectura2, lectura3])}%\n",
    "    \"\"\"\n",
    "\n",
    "print(reporteCombustible1(50, 70, 95))\n",
    "\n",
    "print(str(promedio([50, 70, 95])))\n",
    "\n",
    "print(reporteCombustible2(50, 70, 95))\n",
    "\n"
   ]
  },
  {
   "cell_type": "markdown",
   "metadata": {},
   "source": [
    "# Ejercicio 2: Trabajo con argumentos de palabra clave\n",
    "Ejercicio : Trabajar con argumentos de palabras clave en funciones\n",
    "\n",
    "En este ejercicio, construirás un informe de cohete que requiere varias piezas de información, como el tiempo hasta el destino, el combustible a la izquierda y el nombre del destino. Comienza por crear una función que creará un informe preciso de la misión:\n"
   ]
  },
  {
   "cell_type": "code",
   "execution_count": 12,
   "metadata": {},
   "outputs": [
    {
     "name": "stdout",
     "output_type": "stream",
     "text": [
      "\n",
      "    Destino: Marte\n",
      "    Tiempo de Misión: 100 minutos\n",
      "    Combustible total: 80240245 litros\n",
      "    \n",
      "\n",
      "    Destino: Marte\n",
      "    Tiempo de Misión: 60 minutes\n",
      "    Combustible total: 80240245 litros\n",
      "    \n",
      "\n",
      "    Destino: Marte\n",
      "    Tiempo de Misión: 60 minutes\n",
      "    Combustible total: 80240245 litros\n",
      "    Tanque interno Tiene 45675678 litros\n",
      "Tanque externo Tiene 34564567 litros\n",
      "\n"
     ]
    }
   ],
   "source": [
    "def reporteMision1(timepoLanzamiento, tiempoVuelo, destino, tanqueExterno, tanqueInterno):\n",
    "    return f\"\"\"\n",
    "    Destino: {destino}\n",
    "    Tiempo de Misión: {timepoLanzamiento + tiempoVuelo} minutos\n",
    "    Combustible total: {tanqueExterno + tanqueInterno} litros\n",
    "    \"\"\"\n",
    "\n",
    "print(reporteMision1(10, 90, \"Marte\", 34564567, 45675678))\n",
    "\n",
    "def reporteMision2(destino, *etapas, **tanques):\n",
    "    return f\"\"\"\n",
    "    Destino: {destino}\n",
    "    Tiempo de Misión: {sum(etapas)} minutes\n",
    "    Combustible total: {sum(tanques.values())} litros\n",
    "    \"\"\"\n",
    "\n",
    "print(reporteMision2(\"Marte\", 10, 20, 30, interno=45675678, externo=34564567))\n",
    "\n",
    "def reporteMision3(destino, *etapas, **tanques):\n",
    "    reporte = f\"\"\"\n",
    "    Destino: {destino}\n",
    "    Tiempo de Misión: {sum(etapas)} minutes\n",
    "    Combustible total: {sum(tanques.values())} litros\n",
    "    \"\"\"\n",
    "    for nombre, litros in tanques.items():\n",
    "        reporte += f\"Tanque {nombre} Tiene {litros} litros\\n\"\n",
    "    return reporte\n",
    "\n",
    "print(reporteMision3(\"Marte\", 10, 20, 30, interno=45675678, externo=34564567))"
   ]
  }
 ],
 "metadata": {
  "interpreter": {
   "hash": "e1889053c0c8d159b49b31758cf411282f3a556a93c9883abe39cbd68a8307f6"
  },
  "kernelspec": {
   "display_name": "Python 3.10.2 64-bit (windows store)",
   "language": "python",
   "name": "python3"
  },
  "language_info": {
   "codemirror_mode": {
    "name": "ipython",
    "version": 3
   },
   "file_extension": ".py",
   "mimetype": "text/x-python",
   "name": "python",
   "nbconvert_exporter": "python",
   "pygments_lexer": "ipython3",
   "version": "3.10.2"
  },
  "orig_nbformat": 4
 },
 "nbformat": 4,
 "nbformat_minor": 2
}
